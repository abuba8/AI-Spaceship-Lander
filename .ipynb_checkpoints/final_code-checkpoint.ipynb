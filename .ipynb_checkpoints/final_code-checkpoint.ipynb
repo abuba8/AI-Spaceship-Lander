{
 "cells": [
  {
   "cell_type": "code",
   "execution_count": 1,
   "id": "4695caf3",
   "metadata": {},
   "outputs": [],
   "source": [
    "import numpy as np\n",
    "import pandas as pd\n",
    "from neural_network.layer import DenseLayer\n",
    "from neural_network.activation import Sigmoid\n",
    "from neural_network.loss import MSE, RMSE, MAE, Error\n",
    "from neural_network.optimizer import SgdMomentum\n",
    "from utils import *"
   ]
  },
  {
   "cell_type": "code",
   "execution_count": 2,
   "id": "288662e8",
   "metadata": {},
   "outputs": [
    {
     "data": {
      "text/plain": [
       "(((136598, 2), (29271, 2), (29272, 2)), ((136598, 2), (29271, 2), (29272, 2)))"
      ]
     },
     "execution_count": 2,
     "metadata": {},
     "output_type": "execute_result"
    }
   ],
   "source": [
    "df = load_data('data/data_195k.csv')\n",
    "\n",
    "# split the data, with 70% training data, 15 each for validation and testing data\n",
    "X_train, y_train, X_val, y_val, X_test, y_test = split_data(df, train_split_ratio=0.7, val_split_ratio=0.15)\n",
    "(X_train.shape, X_val.shape, X_test.shape), (y_train.shape, y_val.shape, y_test.shape)"
   ]
  },
  {
   "cell_type": "code",
   "execution_count": 3,
   "id": "1b8f1566",
   "metadata": {},
   "outputs": [],
   "source": [
    "class NeuralNetwork:\n",
    "    '''\n",
    "    Implementation of MLP/Neural Network Architecture.\n",
    "    Constructor: Initialize the layers, multiple loss functions, and gradients of our loss function\n",
    "    Forward Method: Iterates over all the layers and call the forward method of each object\n",
    "    Backward Method: Similar to backward method, iterates over all the layers in reverse and calls the backward method\n",
    "    Forward Pass: Calls the forward method, after receiving the output, calculates multiple losses and returns the output and loss\n",
    "    Backward Pass: Calls the backward method, for backward pass \n",
    "    '''\n",
    "    def __init__(self, layers, loss, mse, rmse):\n",
    "        self.layers = layers\n",
    "        self.loss_function = loss\n",
    "        self.mse = mse\n",
    "        self.rmse = rmse\n",
    "        self.grad_loss = None\n",
    "\n",
    "    def forward(self, input_data):\n",
    "        output = input_data\n",
    "        for layer in self.layers:\n",
    "            output = layer.forward(output)\n",
    "        return output\n",
    "        \n",
    "    def backward(self, grad_output):\n",
    "        for layer in reversed(self.layers):\n",
    "            grad_output = layer.backward(grad_output)\n",
    "            \n",
    "    def forward_pass(self, input_data, target):\n",
    "        output = self.forward(input_data)\n",
    "        _, grad_loss = self.loss_function.forward(target, output)\n",
    "        self.grad_loss = grad_loss\n",
    "        mse_err = self.mse.forward(target, output)\n",
    "        rmse_err = self.rmse.forward(target, output)\n",
    "        return (mse_err, rmse_err), output\n",
    "        \n",
    "    def backward_pass(self):\n",
    "        self.backward(self.grad_loss)"
   ]
  },
  {
   "cell_type": "code",
   "execution_count": 4,
   "id": "208fac2d",
   "metadata": {},
   "outputs": [],
   "source": [
    "def stopping_criterion(val_loss):\n",
    "    '''\n",
    "    The stopping criterion is rather simpler\n",
    "    If the last three epochs of our RMSE loss upto 5 decimal places are equal, stop the training\n",
    "    and save the weights by returning key words 'stop', 'continue'\n",
    "    '''\n",
    "    format_loss = [format(num, '.5f') for num in val_loss]\n",
    "\n",
    "    if format_loss[0] == format_loss[1] == format_loss[2]:\n",
    "        return 'stop'\n",
    "    elif format_loss[0] < format_loss[1] < format_loss[2]:\n",
    "        return 'stop'\n",
    "    else:\n",
    "        'continue'\n",
    "    "
   ]
  },
  {
   "cell_type": "code",
   "execution_count": 5,
   "id": "c93be193",
   "metadata": {},
   "outputs": [],
   "source": [
    "# rmse loss returns a 1D array\n",
    "# t_loss_rmse"
   ]
  },
  {
   "cell_type": "markdown",
   "id": "0feb89e3",
   "metadata": {},
   "source": [
    "### Grid Search"
   ]
  },
  {
   "cell_type": "code",
   "execution_count": 8,
   "id": "83ab2cf1",
   "metadata": {},
   "outputs": [],
   "source": [
    "from itertools import product\n",
    "\n",
    "lr = [0.001, 0.1, 0.25, 0.5, 0.8, 1]\n",
    "momentum = [0.1, 0.5, 0.9]\n",
    "hidden_neurons = [2,5,10,15]\n",
    "\n",
    "# calculating different types of combinations (72) and storing it in a dictionary, to assess which model performs the best\n",
    "combinations = list(product(lr, momentum, hidden_neurons))\n",
    "grid_search = dict()\n",
    "# combinations"
   ]
  },
  {
   "cell_type": "code",
   "execution_count": 9,
   "id": "6114a2f0",
   "metadata": {
    "scrolled": true
   },
   "outputs": [
    {
     "name": "stdout",
     "output_type": "stream",
     "text": [
      "lr_0.001_momentum_0.1_h_neurons_2: T_MSE Avg Loss: 0.011297, V_MSE Avg Loss: 0.011378, T_RMSE Avg Loss: 0.082664, V_RMSE Avg Loss: 0.082793\n",
      "lr_0.001_momentum_0.1_h_neurons_5: T_MSE Avg Loss: 0.011270, V_MSE Avg Loss: 0.011350, T_RMSE Avg Loss: 0.082600, V_RMSE Avg Loss: 0.082722\n",
      "lr_0.001_momentum_0.1_h_neurons_10: T_MSE Avg Loss: 0.011188, V_MSE Avg Loss: 0.011265, T_RMSE Avg Loss: 0.082344, V_RMSE Avg Loss: 0.082453\n",
      "lr_0.001_momentum_0.1_h_neurons_15: T_MSE Avg Loss: 0.011168, V_MSE Avg Loss: 0.011242, T_RMSE Avg Loss: 0.082331, V_RMSE Avg Loss: 0.082431\n",
      "lr_0.001_momentum_0.5_h_neurons_2: T_MSE Avg Loss: 0.011212, V_MSE Avg Loss: 0.011287, T_RMSE Avg Loss: 0.082461, V_RMSE Avg Loss: 0.082575\n",
      "lr_0.001_momentum_0.5_h_neurons_5: T_MSE Avg Loss: 0.011186, V_MSE Avg Loss: 0.011258, T_RMSE Avg Loss: 0.082389, V_RMSE Avg Loss: 0.082489\n",
      "lr_0.001_momentum_0.5_h_neurons_10: T_MSE Avg Loss: 0.011044, V_MSE Avg Loss: 0.011107, T_RMSE Avg Loss: 0.081880, V_RMSE Avg Loss: 0.081943\n",
      "lr_0.001_momentum_0.5_h_neurons_15: T_MSE Avg Loss: 0.010879, V_MSE Avg Loss: 0.010934, T_RMSE Avg Loss: 0.081372, V_RMSE Avg Loss: 0.081408\n",
      "lr_0.001_momentum_0.9_h_neurons_2: T_MSE Avg Loss: 0.009429, V_MSE Avg Loss: 0.009448, T_RMSE Avg Loss: 0.078285, V_RMSE Avg Loss: 0.078247\n",
      "lr_0.001_momentum_0.9_h_neurons_5: T_MSE Avg Loss: 0.009232, V_MSE Avg Loss: 0.009277, T_RMSE Avg Loss: 0.077947, V_RMSE Avg Loss: 0.077950\n",
      "lr_0.001_momentum_0.9_h_neurons_10: T_MSE Avg Loss: 0.009250, V_MSE Avg Loss: 0.009296, T_RMSE Avg Loss: 0.078037, V_RMSE Avg Loss: 0.078041\n",
      "lr_0.001_momentum_0.9_h_neurons_15: T_MSE Avg Loss: 0.009255, V_MSE Avg Loss: 0.009300, T_RMSE Avg Loss: 0.078072, V_RMSE Avg Loss: 0.078069\n",
      "lr_0.1_momentum_0.1_h_neurons_2: T_MSE Avg Loss: 0.008485, V_MSE Avg Loss: 0.008456, T_RMSE Avg Loss: 0.075135, V_RMSE Avg Loss: 0.074951\n",
      "lr_0.1_momentum_0.1_h_neurons_5: T_MSE Avg Loss: 0.008501, V_MSE Avg Loss: 0.008463, T_RMSE Avg Loss: 0.075192, V_RMSE Avg Loss: 0.075026\n",
      "lr_0.1_momentum_0.1_h_neurons_10: T_MSE Avg Loss: 0.008638, V_MSE Avg Loss: 0.008611, T_RMSE Avg Loss: 0.075804, V_RMSE Avg Loss: 0.075720\n",
      "lr_0.1_momentum_0.1_h_neurons_15: T_MSE Avg Loss: 0.008560, V_MSE Avg Loss: 0.008528, T_RMSE Avg Loss: 0.075452, V_RMSE Avg Loss: 0.075238\n",
      "lr_0.1_momentum_0.5_h_neurons_2: T_MSE Avg Loss: 0.008409, V_MSE Avg Loss: 0.008390, T_RMSE Avg Loss: 0.074793, V_RMSE Avg Loss: 0.074867\n",
      "lr_0.1_momentum_0.5_h_neurons_5: T_MSE Avg Loss: 0.008306, V_MSE Avg Loss: 0.008269, T_RMSE Avg Loss: 0.074339, V_RMSE Avg Loss: 0.074212\n",
      "lr_0.1_momentum_0.5_h_neurons_10: T_MSE Avg Loss: 0.008353, V_MSE Avg Loss: 0.008305, T_RMSE Avg Loss: 0.074429, V_RMSE Avg Loss: 0.074350\n",
      "lr_0.1_momentum_0.5_h_neurons_15: T_MSE Avg Loss: 0.008238, V_MSE Avg Loss: 0.008215, T_RMSE Avg Loss: 0.074103, V_RMSE Avg Loss: 0.074079\n",
      "lr_0.1_momentum_0.9_h_neurons_2: T_MSE Avg Loss: 0.008420, V_MSE Avg Loss: 0.008464, T_RMSE Avg Loss: 0.075045, V_RMSE Avg Loss: 0.075876\n",
      "lr_0.1_momentum_0.9_h_neurons_5: T_MSE Avg Loss: 0.008307, V_MSE Avg Loss: 0.008316, T_RMSE Avg Loss: 0.074505, V_RMSE Avg Loss: 0.075084\n",
      "lr_0.1_momentum_0.9_h_neurons_10: T_MSE Avg Loss: 0.008303, V_MSE Avg Loss: 0.008321, T_RMSE Avg Loss: 0.074496, V_RMSE Avg Loss: 0.075153\n",
      "lr_0.1_momentum_0.9_h_neurons_15: T_MSE Avg Loss: 0.008275, V_MSE Avg Loss: 0.008289, T_RMSE Avg Loss: 0.074274, V_RMSE Avg Loss: 0.074892\n",
      "lr_0.25_momentum_0.1_h_neurons_2: T_MSE Avg Loss: 0.008388, V_MSE Avg Loss: 0.008367, T_RMSE Avg Loss: 0.074739, V_RMSE Avg Loss: 0.074944\n",
      "lr_0.25_momentum_0.1_h_neurons_5: T_MSE Avg Loss: 0.008270, V_MSE Avg Loss: 0.008250, T_RMSE Avg Loss: 0.074330, V_RMSE Avg Loss: 0.074540\n",
      "lr_0.25_momentum_0.1_h_neurons_10: T_MSE Avg Loss: 0.008219, V_MSE Avg Loss: 0.008199, T_RMSE Avg Loss: 0.074031, V_RMSE Avg Loss: 0.074194\n",
      "lr_0.25_momentum_0.1_h_neurons_15: T_MSE Avg Loss: 0.008255, V_MSE Avg Loss: 0.008208, T_RMSE Avg Loss: 0.074036, V_RMSE Avg Loss: 0.074101\n",
      "lr_0.25_momentum_0.5_h_neurons_2: T_MSE Avg Loss: 0.008416, V_MSE Avg Loss: 0.008342, T_RMSE Avg Loss: 0.074982, V_RMSE Avg Loss: 0.074953\n",
      "lr_0.25_momentum_0.5_h_neurons_5: T_MSE Avg Loss: 0.008332, V_MSE Avg Loss: 0.008229, T_RMSE Avg Loss: 0.074668, V_RMSE Avg Loss: 0.074497\n",
      "lr_0.25_momentum_0.5_h_neurons_10: T_MSE Avg Loss: 0.008203, V_MSE Avg Loss: 0.008200, T_RMSE Avg Loss: 0.073931, V_RMSE Avg Loss: 0.074280\n",
      "lr_0.25_momentum_0.5_h_neurons_15: T_MSE Avg Loss: 0.008200, V_MSE Avg Loss: 0.008195, T_RMSE Avg Loss: 0.073932, V_RMSE Avg Loss: 0.074255\n",
      "lr_0.25_momentum_0.9_h_neurons_2: T_MSE Avg Loss: 0.008742, V_MSE Avg Loss: 0.008226, T_RMSE Avg Loss: 0.076732, V_RMSE Avg Loss: 0.074267\n",
      "lr_0.25_momentum_0.9_h_neurons_5: T_MSE Avg Loss: 0.008637, V_MSE Avg Loss: 0.008143, T_RMSE Avg Loss: 0.076290, V_RMSE Avg Loss: 0.073798\n",
      "lr_0.25_momentum_0.9_h_neurons_10: T_MSE Avg Loss: 0.008696, V_MSE Avg Loss: 0.008275, T_RMSE Avg Loss: 0.076425, V_RMSE Avg Loss: 0.074263\n",
      "lr_0.25_momentum_0.9_h_neurons_15: T_MSE Avg Loss: 0.008590, V_MSE Avg Loss: 0.008110, T_RMSE Avg Loss: 0.076067, V_RMSE Avg Loss: 0.073589\n",
      "lr_0.5_momentum_0.1_h_neurons_2: T_MSE Avg Loss: 0.008432, V_MSE Avg Loss: 0.008326, T_RMSE Avg Loss: 0.075081, V_RMSE Avg Loss: 0.074851\n",
      "lr_0.5_momentum_0.1_h_neurons_5: T_MSE Avg Loss: 0.008217, V_MSE Avg Loss: 0.008153, T_RMSE Avg Loss: 0.074027, V_RMSE Avg Loss: 0.073937\n",
      "lr_0.5_momentum_0.1_h_neurons_10: T_MSE Avg Loss: 0.008230, V_MSE Avg Loss: 0.008215, T_RMSE Avg Loss: 0.074082, V_RMSE Avg Loss: 0.074356\n",
      "lr_0.5_momentum_0.1_h_neurons_15: T_MSE Avg Loss: 0.008214, V_MSE Avg Loss: 0.008195, T_RMSE Avg Loss: 0.073997, V_RMSE Avg Loss: 0.074246\n",
      "lr_0.5_momentum_0.5_h_neurons_2: T_MSE Avg Loss: 0.008574, V_MSE Avg Loss: 0.008283, T_RMSE Avg Loss: 0.075898, V_RMSE Avg Loss: 0.074470\n",
      "lr_0.5_momentum_0.5_h_neurons_5: T_MSE Avg Loss: 0.008317, V_MSE Avg Loss: 0.008176, T_RMSE Avg Loss: 0.074561, V_RMSE Avg Loss: 0.074131\n",
      "lr_0.5_momentum_0.5_h_neurons_10: T_MSE Avg Loss: 0.008297, V_MSE Avg Loss: 0.008154, T_RMSE Avg Loss: 0.074439, V_RMSE Avg Loss: 0.073986\n",
      "lr_0.5_momentum_0.5_h_neurons_15: T_MSE Avg Loss: 0.008272, V_MSE Avg Loss: 0.008134, T_RMSE Avg Loss: 0.074243, V_RMSE Avg Loss: 0.073761\n",
      "lr_0.5_momentum_0.9_h_neurons_2: T_MSE Avg Loss: 0.009281, V_MSE Avg Loss: 0.008323, T_RMSE Avg Loss: 0.079408, V_RMSE Avg Loss: 0.074806\n",
      "lr_0.5_momentum_0.9_h_neurons_5: T_MSE Avg Loss: 0.009155, V_MSE Avg Loss: 0.008266, T_RMSE Avg Loss: 0.078916, V_RMSE Avg Loss: 0.074463\n",
      "lr_0.5_momentum_0.9_h_neurons_10: T_MSE Avg Loss: 0.009114, V_MSE Avg Loss: 0.008247, T_RMSE Avg Loss: 0.078610, V_RMSE Avg Loss: 0.073687\n",
      "lr_0.5_momentum_0.9_h_neurons_15: T_MSE Avg Loss: 0.009116, V_MSE Avg Loss: 0.008276, T_RMSE Avg Loss: 0.078803, V_RMSE Avg Loss: 0.074707\n",
      "lr_0.8_momentum_0.1_h_neurons_2: T_MSE Avg Loss: 0.008542, V_MSE Avg Loss: 0.008277, T_RMSE Avg Loss: 0.075713, V_RMSE Avg Loss: 0.074498\n",
      "lr_0.8_momentum_0.1_h_neurons_5: T_MSE Avg Loss: 0.008286, V_MSE Avg Loss: 0.008167, T_RMSE Avg Loss: 0.074356, V_RMSE Avg Loss: 0.074025\n",
      "lr_0.8_momentum_0.1_h_neurons_10: T_MSE Avg Loss: 0.008260, V_MSE Avg Loss: 0.008139, T_RMSE Avg Loss: 0.074187, V_RMSE Avg Loss: 0.073800\n",
      "lr_0.8_momentum_0.1_h_neurons_15: T_MSE Avg Loss: 0.008256, V_MSE Avg Loss: 0.008152, T_RMSE Avg Loss: 0.074184, V_RMSE Avg Loss: 0.073917\n",
      "lr_0.8_momentum_0.5_h_neurons_2: T_MSE Avg Loss: 0.008794, V_MSE Avg Loss: 0.008353, T_RMSE Avg Loss: 0.077067, V_RMSE Avg Loss: 0.074629\n",
      "lr_0.8_momentum_0.5_h_neurons_5: T_MSE Avg Loss: 0.008468, V_MSE Avg Loss: 0.008164, T_RMSE Avg Loss: 0.075357, V_RMSE Avg Loss: 0.073967\n",
      "lr_0.8_momentum_0.5_h_neurons_10: T_MSE Avg Loss: 0.008389, V_MSE Avg Loss: 0.008139, T_RMSE Avg Loss: 0.074873, V_RMSE Avg Loss: 0.073596\n",
      "lr_0.8_momentum_0.5_h_neurons_15: T_MSE Avg Loss: 0.008381, V_MSE Avg Loss: 0.008132, T_RMSE Avg Loss: 0.074833, V_RMSE Avg Loss: 0.073564\n",
      "lr_0.8_momentum_0.9_h_neurons_2: T_MSE Avg Loss: 0.009920, V_MSE Avg Loss: 0.008448, T_RMSE Avg Loss: 0.082432, V_RMSE Avg Loss: 0.075069\n",
      "lr_0.8_momentum_0.9_h_neurons_5: T_MSE Avg Loss: 0.009765, V_MSE Avg Loss: 0.008349, T_RMSE Avg Loss: 0.081943, V_RMSE Avg Loss: 0.074537\n",
      "lr_0.8_momentum_0.9_h_neurons_10: T_MSE Avg Loss: 0.009987, V_MSE Avg Loss: 0.008736, T_RMSE Avg Loss: 0.082775, V_RMSE Avg Loss: 0.076091\n"
     ]
    },
    {
     "name": "stdout",
     "output_type": "stream",
     "text": [
      "lr_0.8_momentum_0.9_h_neurons_15: T_MSE Avg Loss: 0.009653, V_MSE Avg Loss: 0.008492, T_RMSE Avg Loss: 0.081298, V_RMSE Avg Loss: 0.075006\n",
      "lr_1_momentum_0.1_h_neurons_2: T_MSE Avg Loss: 0.008446, V_MSE Avg Loss: 0.008295, T_RMSE Avg Loss: 0.075170, V_RMSE Avg Loss: 0.074727\n",
      "lr_1_momentum_0.1_h_neurons_5: T_MSE Avg Loss: 0.008342, V_MSE Avg Loss: 0.008177, T_RMSE Avg Loss: 0.074667, V_RMSE Avg Loss: 0.074134\n",
      "lr_1_momentum_0.1_h_neurons_10: T_MSE Avg Loss: 0.008321, V_MSE Avg Loss: 0.008142, T_RMSE Avg Loss: 0.074559, V_RMSE Avg Loss: 0.073883\n",
      "lr_1_momentum_0.1_h_neurons_15: T_MSE Avg Loss: 0.008294, V_MSE Avg Loss: 0.008126, T_RMSE Avg Loss: 0.074358, V_RMSE Avg Loss: 0.073670\n",
      "lr_1_momentum_0.5_h_neurons_2: T_MSE Avg Loss: 0.008634, V_MSE Avg Loss: 0.008237, T_RMSE Avg Loss: 0.076159, V_RMSE Avg Loss: 0.074325\n",
      "lr_1_momentum_0.5_h_neurons_5: T_MSE Avg Loss: 0.008486, V_MSE Avg Loss: 0.008118, T_RMSE Avg Loss: 0.075421, V_RMSE Avg Loss: 0.073593\n",
      "lr_1_momentum_0.5_h_neurons_10: T_MSE Avg Loss: 0.008495, V_MSE Avg Loss: 0.008128, T_RMSE Avg Loss: 0.075533, V_RMSE Avg Loss: 0.073726\n",
      "lr_1_momentum_0.5_h_neurons_15: T_MSE Avg Loss: 0.008493, V_MSE Avg Loss: 0.008125, T_RMSE Avg Loss: 0.075527, V_RMSE Avg Loss: 0.073706\n",
      "lr_1_momentum_0.9_h_neurons_2: T_MSE Avg Loss: 0.010352, V_MSE Avg Loss: 0.009072, T_RMSE Avg Loss: 0.084403, V_RMSE Avg Loss: 0.078727\n",
      "lr_1_momentum_0.9_h_neurons_5: T_MSE Avg Loss: 0.010184, V_MSE Avg Loss: 0.008878, T_RMSE Avg Loss: 0.083914, V_RMSE Avg Loss: 0.077784\n",
      "lr_1_momentum_0.9_h_neurons_10: T_MSE Avg Loss: 0.010344, V_MSE Avg Loss: 0.009326, T_RMSE Avg Loss: 0.084495, V_RMSE Avg Loss: 0.079786\n",
      "lr_1_momentum_0.9_h_neurons_15: T_MSE Avg Loss: 0.010002, V_MSE Avg Loss: 0.009033, T_RMSE Avg Loss: 0.082987, V_RMSE Avg Loss: 0.078178\n"
     ]
    }
   ],
   "source": [
    "# iterate over all the combinations\n",
    "for i in range(len(combinations)):\n",
    "    # set the current combination of lr, momentum and hidden neurons\n",
    "    learning_rate = combinations[i][0]\n",
    "    momentum = combinations[i][1]\n",
    "    hidden_neurons = combinations[i][2]\n",
    "    \n",
    "    # initialize the epochs, loss, optimizer\n",
    "    epochs = 20\n",
    "    loss = Error()\n",
    "    mse = MSE()\n",
    "    rmse = RMSE()\n",
    "    optim = SgdMomentum(lr=learning_rate, beta=momentum)\n",
    "\n",
    "    # initialize the layers\n",
    "    dense_layer = DenseLayer(2, hidden_neurons, weights_init='default')  \n",
    "    activation_hidden = Sigmoid()\n",
    "    output_layer = DenseLayer(hidden_neurons, 2, weights_init='default') \n",
    "    activation_output = Sigmoid()\n",
    "\n",
    "    # pass the objects of layers, activation, loss to Network constructor, which stores it there \n",
    "    network = NeuralNetwork(\n",
    "        [dense_layer, \n",
    "         activation_hidden, \n",
    "         output_layer, \n",
    "         activation_output], \n",
    "        loss, mse, rmse)\n",
    "\n",
    "    # initialize empty strings, for keeping track of training/validation losses of mse and rmse \n",
    "    t_loss_mse = []\n",
    "    v_loss_mse = []\n",
    "    t_loss_rmse = []\n",
    "    v_loss_rmse = []\n",
    "\n",
    "    # Run the network for n epochs\n",
    "    for epoch in range(epochs):\n",
    "        # these variables are zero, for each epoch they are accumulated and in the end divided by len of training data\n",
    "        # this gives the average mse/rmse loss for that epoch, we will append that single value of epoch to our list\n",
    "        total_train_loss_mse = 0\n",
    "        total_val_loss_mse = 0\n",
    "        total_train_loss_rmse = 0\n",
    "        total_val_loss_rmse = 0\n",
    "\n",
    "        # Iterate over the training data\n",
    "        for i in range(len(X_train)):\n",
    "            # convert 1D input to 2D input, also convert it to floating points\n",
    "            input_data = np.array(np.expand_dims(X_train[i], axis=0), dtype=np.float32)\n",
    "            target = np.array(y_train[i], dtype=np.float32)\n",
    "\n",
    "            # pass the inputs to forward pass of network\n",
    "            mse_rmse_loss, _ = network.forward_pass(input_data, target)\n",
    "\n",
    "            # accumulative the mse and rmse loss after each row of training data\n",
    "            total_train_loss_mse += mse_rmse_loss[0]\n",
    "            total_train_loss_rmse += mse_rmse_loss[1][0] # input data is 2d so rmse returns in a 1D list, just fetching the value [0]\n",
    "\n",
    "            # calculate the backward pass\n",
    "            network.backward_pass()\n",
    "\n",
    "            # calculate velocities of each parameter and update the params\n",
    "            optim.calculate((dense_layer.dw, output_layer.dw, dense_layer.db, output_layer.db))\n",
    "            optim.update(vars(dense_layer), vars(output_layer))\n",
    "\n",
    "        # Just like training, iterate over validation set\n",
    "        for j in range(len(X_val)):\n",
    "            # convert inputs from 1D to 2D, and also converts to floating points\n",
    "            val_input_data = np.array(np.expand_dims(X_val[j], axis=0), dtype=np.float32)\n",
    "            val_target_output = np.array(y_val[j], dtype=np.float32)\n",
    "\n",
    "            # forward pass the network on validation data\n",
    "            mse_rmse_loss_val, output = network.forward_pass(val_input_data, val_target_output)\n",
    "\n",
    "            # accumulative the mse and rmse loss after each row of validation data\n",
    "            total_val_loss_mse += mse_rmse_loss_val[0]\n",
    "            total_val_loss_rmse += mse_rmse_loss_val[1][0]\n",
    "\n",
    "\n",
    "        # Just calculating the average of accumlated mse/rmse losses and appending in a list to plot it later on\n",
    "        t_loss_mse.append(total_train_loss_mse/len(X_train))\n",
    "        v_loss_mse.append(total_val_loss_mse/len(X_val))\n",
    "\n",
    "        t_loss_rmse.append(total_train_loss_rmse/len(X_train))\n",
    "        v_loss_rmse.append(total_val_loss_rmse/len(X_val))\n",
    "\n",
    "    \n",
    "    # printing the last (epoch) loss of each combination\n",
    "    print(f'lr_{learning_rate}_momentum_{momentum}_h_neurons_{hidden_neurons}: T_MSE Avg Loss: {(total_train_loss_mse/len(X_train)):.6f}, V_MSE Avg Loss: {(total_val_loss_mse/len(X_val)):.6f}, T_RMSE Avg Loss: {(total_train_loss_rmse/len(X_train)):.6f}, V_RMSE Avg Loss: {(total_val_loss_rmse/len(X_val)):.6f}')\n",
    "    key = f'lr_{learning_rate}_momentum_{momentum}_h_neurons_{hidden_neurons}'\n",
    "    \n",
    "    # append the last mse/rmse loss to the dictionary (assuming it to be the best)\n",
    "    grid_search[key] = {'train_mse_loss': total_train_loss_mse/len(X_train),\n",
    "                        'validation_mse_loss': total_val_loss_mse/len(X_val),\n",
    "                        'train_rmse_loss': total_train_loss_rmse/len(X_train),\n",
    "                        'validation_rmse_loss': total_val_loss_rmse/len(X_val)}"
   ]
  },
  {
   "cell_type": "code",
   "execution_count": 10,
   "id": "24153fab",
   "metadata": {},
   "outputs": [],
   "source": [
    "import json\n",
    "\n",
    "# save the dictionary for grid search\n",
    "with open('grid_search_72.json', 'w') as fp:\n",
    "    json.dump(grid_search, fp)"
   ]
  },
  {
   "cell_type": "code",
   "execution_count": 11,
   "id": "d5118a9c",
   "metadata": {},
   "outputs": [],
   "source": [
    "# temp = [1,2,3,4,5,6,7]\n",
    "# temp[-3:]"
   ]
  },
  {
   "cell_type": "markdown",
   "id": "d9d36da2",
   "metadata": {},
   "source": [
    "### Code"
   ]
  },
  {
   "cell_type": "code",
   "execution_count": 12,
   "id": "23e9628a",
   "metadata": {},
   "outputs": [
    {
     "name": "stdout",
     "output_type": "stream",
     "text": [
      "Epoch: 1, T_MSE Avg Loss: 0.009403, V_MSE Avg Loss: 0.008620, T_RMSE Avg Loss: 0.079528, V_RMSE Avg Loss: 0.075736\n",
      "Epoch: 2, T_MSE Avg Loss: 0.009023, V_MSE Avg Loss: 0.008579, T_RMSE Avg Loss: 0.077852, V_RMSE Avg Loss: 0.075582\n",
      "Epoch: 3, T_MSE Avg Loss: 0.008981, V_MSE Avg Loss: 0.008553, T_RMSE Avg Loss: 0.077593, V_RMSE Avg Loss: 0.075412\n",
      "Epoch: 4, T_MSE Avg Loss: 0.008942, V_MSE Avg Loss: 0.008463, T_RMSE Avg Loss: 0.077425, V_RMSE Avg Loss: 0.074873\n",
      "Epoch: 5, T_MSE Avg Loss: 0.008831, V_MSE Avg Loss: 0.008302, T_RMSE Avg Loss: 0.076981, V_RMSE Avg Loss: 0.074155\n",
      "Epoch: 6, T_MSE Avg Loss: 0.008731, V_MSE Avg Loss: 0.008233, T_RMSE Avg Loss: 0.076624, V_RMSE Avg Loss: 0.073978\n",
      "Epoch: 7, T_MSE Avg Loss: 0.008675, V_MSE Avg Loss: 0.008193, T_RMSE Avg Loss: 0.076427, V_RMSE Avg Loss: 0.073825\n",
      "Epoch: 8, T_MSE Avg Loss: 0.008637, V_MSE Avg Loss: 0.008161, T_RMSE Avg Loss: 0.076254, V_RMSE Avg Loss: 0.073641\n",
      "Epoch: 9, T_MSE Avg Loss: 0.008614, V_MSE Avg Loss: 0.008145, T_RMSE Avg Loss: 0.076121, V_RMSE Avg Loss: 0.073525\n",
      "Epoch: 10, T_MSE Avg Loss: 0.008598, V_MSE Avg Loss: 0.008136, T_RMSE Avg Loss: 0.076026, V_RMSE Avg Loss: 0.073455\n",
      "Epoch: 11, T_MSE Avg Loss: 0.008586, V_MSE Avg Loss: 0.008129, T_RMSE Avg Loss: 0.075947, V_RMSE Avg Loss: 0.073404\n",
      "Epoch: 12, T_MSE Avg Loss: 0.008575, V_MSE Avg Loss: 0.008125, T_RMSE Avg Loss: 0.075881, V_RMSE Avg Loss: 0.073374\n",
      "Epoch: 13, T_MSE Avg Loss: 0.008567, V_MSE Avg Loss: 0.008123, T_RMSE Avg Loss: 0.075833, V_RMSE Avg Loss: 0.073367\n",
      "Epoch: 14, T_MSE Avg Loss: 0.008561, V_MSE Avg Loss: 0.008123, T_RMSE Avg Loss: 0.075801, V_RMSE Avg Loss: 0.073371\n",
      "Stopping!\n"
     ]
    }
   ],
   "source": [
    "# try the best combination, retrieved from grid search\n",
    "epochs = 100\n",
    "loss = Error()\n",
    "mse = MSE()\n",
    "rmse = RMSE()\n",
    "optim = SgdMomentum(lr=0.25, beta=0.9)\n",
    "s_criterion = None\n",
    "\n",
    "dense_layer = DenseLayer(2, 15, weights_init='default')  \n",
    "activation_hidden = Sigmoid()\n",
    "output_layer = DenseLayer(15, 2, weights_init='default') \n",
    "activation_output = Sigmoid()\n",
    "\n",
    "network = NeuralNetwork(\n",
    "    [dense_layer, \n",
    "     activation_hidden, \n",
    "     output_layer, \n",
    "     activation_output], \n",
    "    loss, mse, rmse)\n",
    "\n",
    "t_loss_mse = []\n",
    "v_loss_mse = []\n",
    "t_loss_rmse = []\n",
    "v_loss_rmse = []\n",
    "\n",
    "for epoch in range(epochs):\n",
    "    total_train_loss_mse = 0\n",
    "    total_val_loss_mse = 0\n",
    "    total_train_loss_rmse = 0\n",
    "    total_val_loss_rmse = 0\n",
    "    \n",
    "    for i in range(len(X_train)):\n",
    "        input_data = np.array(np.expand_dims(X_train[i], axis=0), dtype=np.float32)\n",
    "        target = np.array(y_train[i], dtype=np.float32)\n",
    "\n",
    "        mse_rmse_loss, _ = network.forward_pass(input_data, target)\n",
    "        \n",
    "        # accumulative the mse and rmse loss after each row of training data\n",
    "        total_train_loss_mse += mse_rmse_loss[0]\n",
    "        total_train_loss_rmse += mse_rmse_loss[1][0] # input data is 2d so rmse returns in a 1D list, just fetching the value [0]\n",
    "        \n",
    "        network.backward_pass()\n",
    "        \n",
    "        optim.calculate((dense_layer.dw, output_layer.dw, dense_layer.db, output_layer.db))\n",
    "        optim.update(vars(dense_layer), vars(output_layer))\n",
    "        \n",
    "    for j in range(len(X_val)):\n",
    "        val_input_data = np.array(np.expand_dims(X_val[j], axis=0), dtype=np.float32)\n",
    "        val_target_output = np.array(y_val[j], dtype=np.float32)\n",
    "\n",
    "        mse_rmse_loss_val, output = network.forward_pass(val_input_data, val_target_output)\n",
    "        \n",
    "        # accumulative the mse and rmse loss after each row of validation data\n",
    "        total_val_loss_mse += mse_rmse_loss_val[0]\n",
    "        total_val_loss_rmse += mse_rmse_loss_val[1][0]\n",
    "    \n",
    "    \n",
    "    # Just calculating the average of accumlated mse/rmse losses and appending in a list to plot it later on\n",
    "    t_loss_mse.append(total_train_loss_mse/len(X_train))\n",
    "    v_loss_mse.append(total_val_loss_mse/len(X_val))\n",
    "    \n",
    "    t_loss_rmse.append(total_train_loss_rmse/len(X_train))\n",
    "    v_loss_rmse.append(total_val_loss_rmse/len(X_val))\n",
    "    \n",
    "    # Plot the average mse and rmse loss each epoch\n",
    "    print(f'Epoch: {epoch+1}, T_MSE Avg Loss: {(total_train_loss_mse/len(X_train)):.6f}, V_MSE Avg Loss: {(total_val_loss_mse/len(X_val)):.6f}, T_RMSE Avg Loss: {(total_train_loss_rmse/len(X_train)):.6f}, V_RMSE Avg Loss: {(total_val_loss_rmse/len(X_val)):.6f}')\n",
    "    \n",
    "    if len(v_loss_rmse) >= 3:\n",
    "        s_criterion = stopping_criterion(v_loss_rmse[-3:])\n",
    "    \n",
    "    if s_criterion == 'stop':\n",
    "        print('Stopping!')\n",
    "        break\n",
    "    else:\n",
    "        continue"
   ]
  },
  {
   "cell_type": "code",
   "execution_count": 13,
   "id": "8f9b9a43",
   "metadata": {},
   "outputs": [
    {
     "data": {
      "image/png": "[encoded data removed]",
      "text/plain": [
       "<Figure size 640x480 with 1 Axes>"
      ]
     },
     "metadata": {},
     "output_type": "display_data"
    }
   ],
   "source": [
    "import matplotlib.pyplot as plt\n",
    "\n",
    "# summarize history for loss\n",
    "plt.plot(t_loss_mse)\n",
    "plt.plot(v_loss_mse)\n",
    "plt.title('Model Loss MSE')\n",
    "plt.ylabel('MSE loss')\n",
    "plt.xlabel('epoch')\n",
    "plt.legend(['Train', 'Validation'], loc='upper left')\n",
    "plt.show()"
   ]
  },
  {
   "cell_type": "code",
   "execution_count": 14,
   "id": "e1b1feae",
   "metadata": {},
   "outputs": [
    {
     "data": {
      "image/png": "[encoded data removed]",
      "text/plain": [
       "<Figure size 640x480 with 1 Axes>"
      ]
     },
     "metadata": {},
     "output_type": "display_data"
    }
   ],
   "source": [
    "import matplotlib.pyplot as plt\n",
    "\n",
    "# summarize history for loss\n",
    "plt.plot(t_loss_rmse)\n",
    "plt.plot(v_loss_rmse)\n",
    "plt.title('Model Loss RMSE')\n",
    "plt.ylabel('RMSE loss')\n",
    "plt.xlabel('epoch')\n",
    "plt.legend(['Train', 'Validation'], loc='upper left')\n",
    "plt.show()"
   ]
  },
  {
   "cell_type": "code",
   "execution_count": 15,
   "id": "c37b5b81",
   "metadata": {},
   "outputs": [],
   "source": [
    "np.savez('weights/grid_search_1.npz', \n",
    "         weights_input_hidden=dense_layer.w,\n",
    "         bias_hidden=dense_layer.b,\n",
    "         weights_hidden_output=output_layer.w,\n",
    "         bias_output=output_layer.b)"
   ]
  },
  {
   "cell_type": "code",
   "execution_count": null,
   "id": "568ca682",
   "metadata": {},
   "outputs": [],
   "source": []
  },
  {
   "cell_type": "markdown",
   "id": "433aaf26",
   "metadata": {},
   "source": [
    "### Ignore, Extra helpful code to help in merging the code to game"
   ]
  },
  {
   "cell_type": "code",
   "execution_count": 22,
   "id": "de31d3da",
   "metadata": {},
   "outputs": [
    {
     "name": "stdout",
     "output_type": "stream",
     "text": [
      "Iteration: 1, Actual: [5.9031704622885055, 0.0031643193084942567], Predicted: [array([6.32997585, 0.19146288])]\n",
      "Iteration: 2001, Actual: [-0.11421162216921754, 1.2241816233174836], Predicted: [array([0.10366954, 1.83937128])]\n",
      "Iteration: 4001, Actual: [-0.9743853785434249, -0.16415655850095057], Predicted: [array([0.30974299, 0.05827657])]\n",
      "Iteration: 6001, Actual: [-0.2586590532711295, -4.242463937093534], Predicted: [array([ 0.36689548, -1.5734474 ])]\n",
      "Iteration: 8001, Actual: [-1.935119657009205, -0.02098933848212603], Predicted: [array([ 0.62786402, -0.03748069])]\n",
      "Iteration: 10001, Actual: [-0.41367911320482076, 3.7926103005164515], Predicted: [array([-0.19712023,  1.46251562])]\n",
      "Iteration: 12001, Actual: [0.028935771410152356, 0.26888425618308975], Predicted: [array([0.16869693, 2.02473602])]\n",
      "Iteration: 14001, Actual: [2.02717653789471, -0.08486997160865162], Predicted: [array([ 0.23376475, -0.25636174])]\n",
      "Iteration: 16001, Actual: [-0.4483216747941645, 2.167195903377592], Predicted: [array([0.29699369, 0.56827764])]\n",
      "Iteration: 18001, Actual: [0.34581828020285155, -0.8269463550937148], Predicted: [array([-0.2087592, -0.6527282])]\n",
      "Iteration: 20001, Actual: [4.625430056852505, 2.45627699518828], Predicted: [array([0.47642576, 0.73417217])]\n",
      "Iteration: 22001, Actual: [0.9983855407228965, 0.05832364945708157], Predicted: [array([0.13709138, 1.02989472])]\n",
      "Iteration: 24001, Actual: [2.4969313431195967, -0.05134582795449827], Predicted: [array([0.71705041, 0.15112998])]\n",
      "Iteration: 26001, Actual: [0.9701465644618414, 0.03184575664396139], Predicted: [array([0.71976236, 0.25049934])]\n",
      "Iteration: 28001, Actual: [0.5785004368350082, -0.02539407029048668], Predicted: [array([0.44380229, 0.57338127])]\n",
      "\n",
      "Average Testing Loss: 0.0081683943550904\n"
     ]
    }
   ],
   "source": [
    "def denormalize_output(normalized_output):\n",
    "    normalized_output = np.asarray(normalized_output)\n",
    "    min_vals = np.asarray([-5.734893151, -7.834820917207927])\n",
    "    max_vals = np.asarray([8.0, 7.984324319])\n",
    "    return normalized_output * (max_vals - min_vals) + min_vals\n",
    "\n",
    "test_loss = 0\n",
    "for j in range(len(X_test)):\n",
    "    test_input_data = np.array(np.expand_dims(X_test[j], axis=0), dtype=np.float32)\n",
    "    test_target_output = np.array(y_test[j], dtype=np.float32)\n",
    "\n",
    "    test_mse_loss, output = network.forward_pass(test_input_data, test_target_output)\n",
    "\n",
    "    test_loss += test_mse_loss\n",
    "    \n",
    "    if j % 2000 == 0:\n",
    "        print(f'Iteration: {j+1}, Actual: {list(denormalize_output(test_target_output))}, Predicted: {list(denormalize_output(output))}')\n",
    "        \n",
    "print(f'\\nAverage Testing Loss: {test_loss/len(X_test)}')"
   ]
  },
  {
   "cell_type": "code",
   "execution_count": 19,
   "id": "b6f2c596",
   "metadata": {},
   "outputs": [
    {
     "data": {
      "text/plain": [
       "0.0081683943550904"
      ]
     },
     "execution_count": 19,
     "metadata": {},
     "output_type": "execute_result"
    }
   ],
   "source": [
    "\n",
    "#lr 0.8\n",
    "#momentum 0.1"
   ]
  },
  {
   "cell_type": "code",
   "execution_count": 18,
   "id": "53261c5e",
   "metadata": {},
   "outputs": [],
   "source": [
    "# np.savez('weights/updated_try_1.npz', \n",
    "#          weights_input_hidden=dense_layer.w,\n",
    "#          bias_hidden=dense_layer.b,\n",
    "#          weights_hidden_output=output_layer.w,\n",
    "#          bias_output=output_layer.b)"
   ]
  },
  {
   "cell_type": "code",
   "execution_count": null,
   "id": "d9c409a8",
   "metadata": {},
   "outputs": [],
   "source": []
  },
  {
   "cell_type": "code",
   "execution_count": 102,
   "id": "d3f8a217",
   "metadata": {},
   "outputs": [],
   "source": [
    "def normalize_column(column):\n",
    "    max_val = column.max()\n",
    "    min_val = column.min()\n",
    "    normalized = (column - min_val) / (max_val - min_val)\n",
    "    return normalized\n",
    "\n",
    "def load_data(path):\n",
    "    df = pd.read_csv(path, names=['X', 'Y', 'X_Vel', 'Y_Vel'])\n",
    "    df_norm = pd.DataFrame(columns = ['X', 'Y', 'X_Vel', 'Y_Vel'])\n",
    "    for column in df.columns.values:\n",
    "        df_norm[column] = normalize_column(df[column])\n",
    "        \n",
    "    return df_norm"
   ]
  },
  {
   "cell_type": "code",
   "execution_count": 103,
   "id": "09f5307a",
   "metadata": {},
   "outputs": [],
   "source": [
    "df_org = load_data('data/data_110k.csv')"
   ]
  },
  {
   "cell_type": "code",
   "execution_count": 104,
   "id": "31f366b2",
   "metadata": {},
   "outputs": [
    {
     "data": {
      "text/html": [
       "<div>\n",
       "<style scoped>\n",
       "    .dataframe tbody tr th:only-of-type {\n",
       "        vertical-align: middle;\n",
       "    }\n",
       "\n",
       "    .dataframe tbody tr th {\n",
       "        vertical-align: top;\n",
       "    }\n",
       "\n",
       "    .dataframe thead th {\n",
       "        text-align: right;\n",
       "    }\n",
       "</style>\n",
       "<table border=\"1\" class=\"dataframe\">\n",
       "  <thead>\n",
       "    <tr style=\"text-align: right;\">\n",
       "      <th></th>\n",
       "      <th>X</th>\n",
       "      <th>Y</th>\n",
       "      <th>X_Vel</th>\n",
       "      <th>Y_Vel</th>\n",
       "    </tr>\n",
       "  </thead>\n",
       "  <tbody>\n",
       "    <tr>\n",
       "      <th>0</th>\n",
       "      <td>0.706918</td>\n",
       "      <td>0.531767</td>\n",
       "      <td>0.417542</td>\n",
       "      <td>0.495275</td>\n",
       "    </tr>\n",
       "    <tr>\n",
       "      <th>1</th>\n",
       "      <td>0.706918</td>\n",
       "      <td>0.531767</td>\n",
       "      <td>0.410261</td>\n",
       "      <td>0.497803</td>\n",
       "    </tr>\n",
       "    <tr>\n",
       "      <th>2</th>\n",
       "      <td>0.706894</td>\n",
       "      <td>0.531912</td>\n",
       "      <td>0.402989</td>\n",
       "      <td>0.495716</td>\n",
       "    </tr>\n",
       "    <tr>\n",
       "      <th>3</th>\n",
       "      <td>0.706889</td>\n",
       "      <td>0.532202</td>\n",
       "      <td>0.395744</td>\n",
       "      <td>0.494069</td>\n",
       "    </tr>\n",
       "    <tr>\n",
       "      <th>4</th>\n",
       "      <td>0.706901</td>\n",
       "      <td>0.532636</td>\n",
       "      <td>0.388543</td>\n",
       "      <td>0.497919</td>\n",
       "    </tr>\n",
       "  </tbody>\n",
       "</table>\n",
       "</div>"
      ],
      "text/plain": [
       "          X         Y     X_Vel     Y_Vel\n",
       "0  0.706918  0.531767  0.417542  0.495275\n",
       "1  0.706918  0.531767  0.410261  0.497803\n",
       "2  0.706894  0.531912  0.402989  0.495716\n",
       "3  0.706889  0.532202  0.395744  0.494069\n",
       "4  0.706901  0.532636  0.388543  0.497919"
      ]
     },
     "execution_count": 104,
     "metadata": {},
     "output_type": "execute_result"
    }
   ],
   "source": [
    "df_org.head()"
   ]
  },
  {
   "cell_type": "code",
   "execution_count": 105,
   "id": "d668161a",
   "metadata": {},
   "outputs": [],
   "source": [
    "df = pd.read_csv('data/data_110k.csv', names=['X', 'Y', 'X_Vel', 'Y_Vel'])"
   ]
  },
  {
   "cell_type": "code",
   "execution_count": 106,
   "id": "20cabf23",
   "metadata": {},
   "outputs": [
    {
     "data": {
      "text/plain": [
       "(-809.4309860518749, 65.51751194656129, 811.7340473647876, 754.5086679)"
      ]
     },
     "execution_count": 106,
     "metadata": {},
     "output_type": "execute_result"
    }
   ],
   "source": [
    "df.X.min(), df.Y.min(), df.X.max(), df.Y.max()"
   ]
  },
  {
   "cell_type": "code",
   "execution_count": 139,
   "id": "937350a5",
   "metadata": {},
   "outputs": [],
   "source": [
    "def normalized(column):\n",
    "    min_val = np.asarray([-809.4309860518749, 65.51751194656129])\n",
    "    max_val = np.asarray([811.7340473647876, 754.5086679])\n",
    "    return (column - min_val) / (max_val - min_val)"
   ]
  },
  {
   "cell_type": "code",
   "execution_count": 142,
   "id": "890353a2",
   "metadata": {},
   "outputs": [
    {
     "data": {
      "text/plain": [
       "[0.706901, 0.532636]"
      ]
     },
     "execution_count": 142,
     "metadata": {},
     "output_type": "execute_result"
    }
   ],
   "source": [
    "[float(\"{:.6f}\".format(num)) for num in list(normalized(df.iloc[4,:2]))]"
   ]
  },
  {
   "cell_type": "code",
   "execution_count": 158,
   "id": "e3a19c7b",
   "metadata": {},
   "outputs": [
    {
     "data": {
      "text/html": [
       "<div>\n",
       "<style scoped>\n",
       "    .dataframe tbody tr th:only-of-type {\n",
       "        vertical-align: middle;\n",
       "    }\n",
       "\n",
       "    .dataframe tbody tr th {\n",
       "        vertical-align: top;\n",
       "    }\n",
       "\n",
       "    .dataframe thead th {\n",
       "        text-align: right;\n",
       "    }\n",
       "</style>\n",
       "<table border=\"1\" class=\"dataframe\">\n",
       "  <thead>\n",
       "    <tr style=\"text-align: right;\">\n",
       "      <th></th>\n",
       "      <th>X</th>\n",
       "      <th>Y</th>\n",
       "      <th>X_Vel</th>\n",
       "      <th>Y_Vel</th>\n",
       "    </tr>\n",
       "  </thead>\n",
       "  <tbody>\n",
       "    <tr>\n",
       "      <th>0</th>\n",
       "      <td>336.600440</td>\n",
       "      <td>431.900000</td>\n",
       "      <td>0.000000</td>\n",
       "      <td>0.000000</td>\n",
       "    </tr>\n",
       "    <tr>\n",
       "      <th>1</th>\n",
       "      <td>336.600440</td>\n",
       "      <td>431.900000</td>\n",
       "      <td>-0.100000</td>\n",
       "      <td>0.040000</td>\n",
       "    </tr>\n",
       "    <tr>\n",
       "      <th>2</th>\n",
       "      <td>336.560441</td>\n",
       "      <td>432.000000</td>\n",
       "      <td>-0.199878</td>\n",
       "      <td>0.006980</td>\n",
       "    </tr>\n",
       "    <tr>\n",
       "      <th>3</th>\n",
       "      <td>336.553461</td>\n",
       "      <td>432.199878</td>\n",
       "      <td>-0.299391</td>\n",
       "      <td>-0.019069</td>\n",
       "    </tr>\n",
       "    <tr>\n",
       "      <th>4</th>\n",
       "      <td>336.572529</td>\n",
       "      <td>432.499269</td>\n",
       "      <td>-0.398295</td>\n",
       "      <td>0.041837</td>\n",
       "    </tr>\n",
       "  </tbody>\n",
       "</table>\n",
       "</div>"
      ],
      "text/plain": [
       "            X           Y     X_Vel     Y_Vel\n",
       "0  336.600440  431.900000  0.000000  0.000000\n",
       "1  336.600440  431.900000 -0.100000  0.040000\n",
       "2  336.560441  432.000000 -0.199878  0.006980\n",
       "3  336.553461  432.199878 -0.299391 -0.019069\n",
       "4  336.572529  432.499269 -0.398295  0.041837"
      ]
     },
     "execution_count": 158,
     "metadata": {},
     "output_type": "execute_result"
    }
   ],
   "source": [
    "df.head()"
   ]
  },
  {
   "cell_type": "code",
   "execution_count": 143,
   "id": "8fdac887",
   "metadata": {},
   "outputs": [
    {
     "data": {
      "text/plain": [
       "(-5.734893151, -7.834820917207927, 8.0, 7.984324319)"
      ]
     },
     "execution_count": 143,
     "metadata": {},
     "output_type": "execute_result"
    }
   ],
   "source": [
    "df.X_Vel.min(), df.Y_Vel.min(), df.X_Vel.max(), df.Y_Vel.max()"
   ]
  },
  {
   "cell_type": "code",
   "execution_count": 8,
   "id": "774f21b1",
   "metadata": {},
   "outputs": [],
   "source": [
    "def denormalize_output(normalized_output):\n",
    "    normalized_output = np.asarray(normalized_output)\n",
    "    min_vals = np.asarray([-5.734893151, -7.834820917207927])\n",
    "    max_vals = np.asarray([8.0, 7.984324319])\n",
    "    return normalized_output * (max_vals - min_vals) + min_vals"
   ]
  },
  {
   "cell_type": "code",
   "execution_count": 165,
   "id": "70e07659",
   "metadata": {},
   "outputs": [
    {
     "data": {
      "text/plain": [
       "[-0.199878, 0.00698]"
      ]
     },
     "execution_count": 165,
     "metadata": {},
     "output_type": "execute_result"
    }
   ],
   "source": [
    "[float(\"{:.6f}\".format(num)) for num in list(denormalize_output(df_org.iloc[2,2:]))]"
   ]
  },
  {
   "cell_type": "code",
   "execution_count": 168,
   "id": "6819bd92",
   "metadata": {},
   "outputs": [
    {
     "data": {
      "text/html": [
       "<div>\n",
       "<style scoped>\n",
       "    .dataframe tbody tr th:only-of-type {\n",
       "        vertical-align: middle;\n",
       "    }\n",
       "\n",
       "    .dataframe tbody tr th {\n",
       "        vertical-align: top;\n",
       "    }\n",
       "\n",
       "    .dataframe thead th {\n",
       "        text-align: right;\n",
       "    }\n",
       "</style>\n",
       "<table border=\"1\" class=\"dataframe\">\n",
       "  <thead>\n",
       "    <tr style=\"text-align: right;\">\n",
       "      <th></th>\n",
       "      <th>X</th>\n",
       "      <th>Y</th>\n",
       "      <th>X_Vel</th>\n",
       "      <th>Y_Vel</th>\n",
       "    </tr>\n",
       "  </thead>\n",
       "  <tbody>\n",
       "    <tr>\n",
       "      <th>count</th>\n",
       "      <td>110885.000000</td>\n",
       "      <td>110885.000000</td>\n",
       "      <td>110885.000000</td>\n",
       "      <td>110885.000000</td>\n",
       "    </tr>\n",
       "    <tr>\n",
       "      <th>mean</th>\n",
       "      <td>35.349294</td>\n",
       "      <td>387.890555</td>\n",
       "      <td>0.426852</td>\n",
       "      <td>0.070859</td>\n",
       "    </tr>\n",
       "    <tr>\n",
       "      <th>std</th>\n",
       "      <td>191.407067</td>\n",
       "      <td>109.583609</td>\n",
       "      <td>1.768663</td>\n",
       "      <td>1.122444</td>\n",
       "    </tr>\n",
       "    <tr>\n",
       "      <th>min</th>\n",
       "      <td>-809.430986</td>\n",
       "      <td>65.517512</td>\n",
       "      <td>-5.734893</td>\n",
       "      <td>-7.834821</td>\n",
       "    </tr>\n",
       "    <tr>\n",
       "      <th>25%</th>\n",
       "      <td>7.664286</td>\n",
       "      <td>314.276688</td>\n",
       "      <td>-0.700345</td>\n",
       "      <td>-0.035960</td>\n",
       "    </tr>\n",
       "    <tr>\n",
       "      <th>50%</th>\n",
       "      <td>24.219063</td>\n",
       "      <td>404.256084</td>\n",
       "      <td>0.249952</td>\n",
       "      <td>0.002530</td>\n",
       "    </tr>\n",
       "    <tr>\n",
       "      <th>75%</th>\n",
       "      <td>44.893683</td>\n",
       "      <td>463.502663</td>\n",
       "      <td>1.275703</td>\n",
       "      <td>0.048518</td>\n",
       "    </tr>\n",
       "    <tr>\n",
       "      <th>max</th>\n",
       "      <td>811.734047</td>\n",
       "      <td>754.508668</td>\n",
       "      <td>8.000000</td>\n",
       "      <td>7.984324</td>\n",
       "    </tr>\n",
       "  </tbody>\n",
       "</table>\n",
       "</div>"
      ],
      "text/plain": [
       "                   X              Y          X_Vel          Y_Vel\n",
       "count  110885.000000  110885.000000  110885.000000  110885.000000\n",
       "mean       35.349294     387.890555       0.426852       0.070859\n",
       "std       191.407067     109.583609       1.768663       1.122444\n",
       "min      -809.430986      65.517512      -5.734893      -7.834821\n",
       "25%         7.664286     314.276688      -0.700345      -0.035960\n",
       "50%        24.219063     404.256084       0.249952       0.002530\n",
       "75%        44.893683     463.502663       1.275703       0.048518\n",
       "max       811.734047     754.508668       8.000000       7.984324"
      ]
     },
     "execution_count": 168,
     "metadata": {},
     "output_type": "execute_result"
    }
   ],
   "source": [
    "df.describe()"
   ]
  },
  {
   "cell_type": "code",
   "execution_count": null,
   "id": "fdfcdd29",
   "metadata": {},
   "outputs": [],
   "source": []
  }
 ],
 "metadata": {
  "kernelspec": {
   "display_name": "Python 3 (ipykernel)",
   "language": "python",
   "name": "python3"
  },
  "language_info": {
   "codemirror_mode": {
    "name": "ipython",
    "version": 3
   },
   "file_extension": ".py",
   "mimetype": "text/x-python",
   "name": "python",
   "nbconvert_exporter": "python",
   "pygments_lexer": "ipython3",
   "version": "3.7.13"
  }
 },
 "nbformat": 4,
 "nbformat_minor": 5
}
